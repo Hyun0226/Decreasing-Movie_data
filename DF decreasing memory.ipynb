{
 "cells": [
  {
   "cell_type": "markdown",
   "id": "5ee3a24e-9164-46b9-ae6e-b6a64e2232cf",
   "metadata": {},
   "source": [
    "# movie 데이터 메모리 용량 줄이기"
   ]
  },
  {
   "cell_type": "markdown",
   "id": "d3fe9a7b-169b-4357-affb-98bba9c80d79",
   "metadata": {},
   "source": [
    "줄이는 방법\n",
    "1. 더 큰 메모리 구매 or cloud 활용\n",
    "2. 파일 작게 자르기\n",
    "3. 메모리를 적게 소비하는 구조 만들기\n",
    "4. 디스크 형태의 구조 사용하기(dask)"
   ]
  },
  {
   "cell_type": "markdown",
   "id": "f36a13a1-3d8a-4828-9794-6a5a835c3de4",
   "metadata": {},
   "source": [
    "메모리를 적게 소비하게 만들기 !!"
   ]
  },
  {
   "cell_type": "code",
   "execution_count": 13,
   "id": "21afafef-d396-4f92-a46a-1e28c244ba46",
   "metadata": {},
   "outputs": [],
   "source": [
    "import pandas as pd\n",
    "import numpy as np"
   ]
  },
  {
   "cell_type": "code",
   "execution_count": 14,
   "id": "f6fe0153-cd14-407e-a1fd-d0be69863b26",
   "metadata": {},
   "outputs": [
    {
     "name": "stdout",
     "output_type": "stream",
     "text": [
      "<class 'pandas.core.frame.DataFrame'>\n",
      "RangeIndex: 1000 entries, 0 to 999\n",
      "Data columns (total 28 columns):\n",
      " #   Column                     Non-Null Count  Dtype  \n",
      "---  ------                     --------------  -----  \n",
      " 0   color                      997 non-null    object \n",
      " 1   director_name              982 non-null    object \n",
      " 2   num_critic_for_reviews     998 non-null    float64\n",
      " 3   duration                   997 non-null    float64\n",
      " 4   director_facebook_likes    982 non-null    float64\n",
      " 5   actor_3_facebook_likes     998 non-null    float64\n",
      " 6   actor_2_name               999 non-null    object \n",
      " 7   actor_1_facebook_likes     1000 non-null   float64\n",
      " 8   gross                      965 non-null    float64\n",
      " 9   genres                     1000 non-null   object \n",
      " 10  actor_1_name               1000 non-null   object \n",
      " 11  movie_title                1000 non-null   object \n",
      " 12  num_voted_users            1000 non-null   int64  \n",
      " 13  cast_total_facebook_likes  1000 non-null   int64  \n",
      " 14  actor_3_name               998 non-null    object \n",
      " 15  facenumber_in_poster       998 non-null    float64\n",
      " 16  plot_keywords              992 non-null    object \n",
      " 17  movie_imdb_link            1000 non-null   object \n",
      " 18  num_user_for_reviews       998 non-null    float64\n",
      " 19  language                   998 non-null    object \n",
      " 20  country                    998 non-null    object \n",
      " 21  content_rating             986 non-null    object \n",
      " 22  budget                     961 non-null    float64\n",
      " 23  title_year                 980 non-null    float64\n",
      " 24  actor_2_facebook_likes     999 non-null    float64\n",
      " 25  imdb_score                 1000 non-null   float64\n",
      " 26  aspect_ratio               990 non-null    float64\n",
      " 27  movie_facebook_likes       1000 non-null   int64  \n",
      "dtypes: float64(13), int64(3), object(12)\n",
      "memory usage: 218.9+ KB\n"
     ]
    }
   ],
   "source": [
    "#영화 데이터 불러오기\n",
    "movies = pd.read_csv('./data/data/movie.csv', nrows = 1000)\n",
    "movies.info()"
   ]
  },
  {
   "cell_type": "markdown",
   "id": "bd9e9d96-4260-4af4-af08-f4b4bf517100",
   "metadata": {},
   "source": [
    "현재 218.9+ KB 메모리가 사용되는 중이고 float64 데이터 13개, int64 데이터 3개, object 데이터 12개가 포함됨"
   ]
  },
  {
   "cell_type": "markdown",
   "id": "2dcf05ce-7133-456d-bccd-10f1861b6b51",
   "metadata": {},
   "source": [
    "일단 사용하고 싶은 데이터만 활용해서 용량을 줄여보겠습니다"
   ]
  },
  {
   "cell_type": "code",
   "execution_count": 15,
   "id": "36b7aa47-2db7-4840-a5e8-af8d6428bcf6",
   "metadata": {},
   "outputs": [
    {
     "name": "stdout",
     "output_type": "stream",
     "text": [
      "<class 'pandas.core.frame.DataFrame'>\n",
      "RangeIndex: 1000 entries, 0 to 999\n",
      "Data columns (total 7 columns):\n",
      " #   Column                  Non-Null Count  Dtype  \n",
      "---  ------                  --------------  -----  \n",
      " 0   actor_3_facebook_likes  998 non-null    float64\n",
      " 1   actor_2_name            999 non-null    object \n",
      " 2   actor_1_facebook_likes  1000 non-null   float64\n",
      " 3   actor_1_name            1000 non-null   object \n",
      " 4   actor_3_name            998 non-null    object \n",
      " 5   actor_2_facebook_likes  999 non-null    float64\n",
      " 6   movie_facebook_likes    1000 non-null   int64  \n",
      "dtypes: float64(3), int64(1), object(3)\n",
      "memory usage: 54.8+ KB\n"
     ]
    }
   ],
   "source": [
    "# 배우 이름들(object)과 배우 페이스북 좋아요(float64), 영화 페이스북 좋아요(int64)만 사용하겠습니다.\n",
    "\n",
    "cols = ['actor_1_name','actor_2_name','actor_3_name','actor_1_facebook_likes','actor_2_facebook_likes','actor_3_facebook_likes',\n",
    "        'movie_facebook_likes']\n",
    "\n",
    "movies2 = pd.read_csv('./data/data/movie.csv', nrows=1000,\n",
    "                       usecols=cols)\n",
    "\n",
    "movies2.info()"
   ]
  },
  {
   "cell_type": "markdown",
   "id": "b22cc271-3379-4479-815e-db0178d51074",
   "metadata": {},
   "source": [
    "54.8+ KB 사용으로 용량을 줄였습니다."
   ]
  },
  {
   "cell_type": "markdown",
   "id": "5a62f634-65f1-4dcf-a9c5-ace097677848",
   "metadata": {},
   "source": [
    "이번엔 float과 int 형태를 살펴보고 적절한 수치로 줄여보겠습니다."
   ]
  },
  {
   "cell_type": "code",
   "execution_count": 16,
   "id": "fd71bbc5-a5fb-467b-aae5-315e4ee753ec",
   "metadata": {},
   "outputs": [
    {
     "data": {
      "text/html": [
       "<div>\n",
       "<style scoped>\n",
       "    .dataframe tbody tr th:only-of-type {\n",
       "        vertical-align: middle;\n",
       "    }\n",
       "\n",
       "    .dataframe tbody tr th {\n",
       "        vertical-align: top;\n",
       "    }\n",
       "\n",
       "    .dataframe thead th {\n",
       "        text-align: right;\n",
       "    }\n",
       "</style>\n",
       "<table border=\"1\" class=\"dataframe\">\n",
       "  <thead>\n",
       "    <tr style=\"text-align: right;\">\n",
       "      <th></th>\n",
       "      <th>actor_3_facebook_likes</th>\n",
       "      <th>actor_2_name</th>\n",
       "      <th>actor_1_facebook_likes</th>\n",
       "      <th>actor_1_name</th>\n",
       "      <th>actor_3_name</th>\n",
       "      <th>actor_2_facebook_likes</th>\n",
       "      <th>movie_facebook_likes</th>\n",
       "    </tr>\n",
       "  </thead>\n",
       "  <tbody>\n",
       "    <tr>\n",
       "      <th>0</th>\n",
       "      <td>855.0</td>\n",
       "      <td>Joel David Moore</td>\n",
       "      <td>1000.0</td>\n",
       "      <td>CCH Pounder</td>\n",
       "      <td>Wes Studi</td>\n",
       "      <td>936.0</td>\n",
       "      <td>33000</td>\n",
       "    </tr>\n",
       "    <tr>\n",
       "      <th>1</th>\n",
       "      <td>1000.0</td>\n",
       "      <td>Orlando Bloom</td>\n",
       "      <td>40000.0</td>\n",
       "      <td>Johnny Depp</td>\n",
       "      <td>Jack Davenport</td>\n",
       "      <td>5000.0</td>\n",
       "      <td>0</td>\n",
       "    </tr>\n",
       "    <tr>\n",
       "      <th>2</th>\n",
       "      <td>161.0</td>\n",
       "      <td>Rory Kinnear</td>\n",
       "      <td>11000.0</td>\n",
       "      <td>Christoph Waltz</td>\n",
       "      <td>Stephanie Sigman</td>\n",
       "      <td>393.0</td>\n",
       "      <td>85000</td>\n",
       "    </tr>\n",
       "    <tr>\n",
       "      <th>3</th>\n",
       "      <td>23000.0</td>\n",
       "      <td>Christian Bale</td>\n",
       "      <td>27000.0</td>\n",
       "      <td>Tom Hardy</td>\n",
       "      <td>Joseph Gordon-Levitt</td>\n",
       "      <td>23000.0</td>\n",
       "      <td>164000</td>\n",
       "    </tr>\n",
       "    <tr>\n",
       "      <th>4</th>\n",
       "      <td>NaN</td>\n",
       "      <td>Rob Walker</td>\n",
       "      <td>131.0</td>\n",
       "      <td>Doug Walker</td>\n",
       "      <td>NaN</td>\n",
       "      <td>12.0</td>\n",
       "      <td>0</td>\n",
       "    </tr>\n",
       "  </tbody>\n",
       "</table>\n",
       "</div>"
      ],
      "text/plain": [
       "   actor_3_facebook_likes      actor_2_name  actor_1_facebook_likes  \\\n",
       "0                   855.0  Joel David Moore                  1000.0   \n",
       "1                  1000.0     Orlando Bloom                 40000.0   \n",
       "2                   161.0      Rory Kinnear                 11000.0   \n",
       "3                 23000.0    Christian Bale                 27000.0   \n",
       "4                     NaN        Rob Walker                   131.0   \n",
       "\n",
       "      actor_1_name          actor_3_name  actor_2_facebook_likes  \\\n",
       "0      CCH Pounder             Wes Studi                   936.0   \n",
       "1      Johnny Depp        Jack Davenport                  5000.0   \n",
       "2  Christoph Waltz      Stephanie Sigman                   393.0   \n",
       "3        Tom Hardy  Joseph Gordon-Levitt                 23000.0   \n",
       "4      Doug Walker                   NaN                    12.0   \n",
       "\n",
       "   movie_facebook_likes  \n",
       "0                 33000  \n",
       "1                     0  \n",
       "2                 85000  \n",
       "3                164000  \n",
       "4                     0  "
      ]
     },
     "execution_count": 16,
     "metadata": {},
     "output_type": "execute_result"
    }
   ],
   "source": [
    "movies2.head()"
   ]
  },
  {
   "cell_type": "code",
   "execution_count": 21,
   "id": "ef8a0048-a706-463e-8307-9d47123b6821",
   "metadata": {},
   "outputs": [
    {
     "data": {
      "text/html": [
       "<div>\n",
       "<style scoped>\n",
       "    .dataframe tbody tr th:only-of-type {\n",
       "        vertical-align: middle;\n",
       "    }\n",
       "\n",
       "    .dataframe tbody tr th {\n",
       "        vertical-align: top;\n",
       "    }\n",
       "\n",
       "    .dataframe thead th {\n",
       "        text-align: right;\n",
       "    }\n",
       "</style>\n",
       "<table border=\"1\" class=\"dataframe\">\n",
       "  <thead>\n",
       "    <tr style=\"text-align: right;\">\n",
       "      <th></th>\n",
       "      <th>count</th>\n",
       "      <th>mean</th>\n",
       "      <th>std</th>\n",
       "      <th>min</th>\n",
       "      <th>25%</th>\n",
       "      <th>50%</th>\n",
       "      <th>75%</th>\n",
       "      <th>max</th>\n",
       "    </tr>\n",
       "  </thead>\n",
       "  <tbody>\n",
       "    <tr>\n",
       "      <th>actor_3_facebook_likes</th>\n",
       "      <td>998.0</td>\n",
       "      <td>1298.910822</td>\n",
       "      <td>2845.384663</td>\n",
       "      <td>0.0</td>\n",
       "      <td>307.25</td>\n",
       "      <td>562.0</td>\n",
       "      <td>854.0</td>\n",
       "      <td>23000.0</td>\n",
       "    </tr>\n",
       "    <tr>\n",
       "      <th>actor_1_facebook_likes</th>\n",
       "      <td>1000.0</td>\n",
       "      <td>10666.077000</td>\n",
       "      <td>11241.500791</td>\n",
       "      <td>2.0</td>\n",
       "      <td>980.50</td>\n",
       "      <td>10000.0</td>\n",
       "      <td>15000.0</td>\n",
       "      <td>87000.0</td>\n",
       "    </tr>\n",
       "    <tr>\n",
       "      <th>actor_2_facebook_likes</th>\n",
       "      <td>999.0</td>\n",
       "      <td>3268.671672</td>\n",
       "      <td>5171.729257</td>\n",
       "      <td>0.0</td>\n",
       "      <td>555.50</td>\n",
       "      <td>871.0</td>\n",
       "      <td>3000.0</td>\n",
       "      <td>27000.0</td>\n",
       "    </tr>\n",
       "    <tr>\n",
       "      <th>movie_facebook_likes</th>\n",
       "      <td>1000.0</td>\n",
       "      <td>15931.707000</td>\n",
       "      <td>31231.750349</td>\n",
       "      <td>0.0</td>\n",
       "      <td>0.00</td>\n",
       "      <td>606.0</td>\n",
       "      <td>19000.0</td>\n",
       "      <td>349000.0</td>\n",
       "    </tr>\n",
       "  </tbody>\n",
       "</table>\n",
       "</div>"
      ],
      "text/plain": [
       "                         count          mean           std  min     25%  \\\n",
       "actor_3_facebook_likes   998.0   1298.910822   2845.384663  0.0  307.25   \n",
       "actor_1_facebook_likes  1000.0  10666.077000  11241.500791  2.0  980.50   \n",
       "actor_2_facebook_likes   999.0   3268.671672   5171.729257  0.0  555.50   \n",
       "movie_facebook_likes    1000.0  15931.707000  31231.750349  0.0    0.00   \n",
       "\n",
       "                            50%      75%       max  \n",
       "actor_3_facebook_likes    562.0    854.0   23000.0  \n",
       "actor_1_facebook_likes  10000.0  15000.0   87000.0  \n",
       "actor_2_facebook_likes    871.0   3000.0   27000.0  \n",
       "movie_facebook_likes      606.0  19000.0  349000.0  "
      ]
     },
     "execution_count": 21,
     "metadata": {},
     "output_type": "execute_result"
    }
   ],
   "source": [
    "movies2.describe().T"
   ]
  },
  {
   "cell_type": "code",
   "execution_count": 18,
   "id": "cb6fef36-d2bc-463e-92b5-f73379194ee0",
   "metadata": {},
   "outputs": [
    {
     "data": {
      "text/plain": [
       "finfo(resolution=0.001, min=-6.55040e+04, max=6.55040e+04, dtype=float16)"
      ]
     },
     "execution_count": 18,
     "metadata": {},
     "output_type": "execute_result"
    }
   ],
   "source": [
    "# float은 16만 줘도 적당해 보인다.\n",
    "np.finfo('float16')"
   ]
  },
  {
   "cell_type": "code",
   "execution_count": 20,
   "id": "f4e76ad4-4de2-4a70-8b3c-88598810c2d3",
   "metadata": {},
   "outputs": [
    {
     "data": {
      "text/plain": [
       "iinfo(min=-2147483648, max=2147483647, dtype=int32)"
      ]
     },
     "execution_count": 20,
     "metadata": {},
     "output_type": "execute_result"
    }
   ],
   "source": [
    "# 영화 좋아요 최대치가 34만이 넘으므로 int16보단 int32가 적절해 보인다.\n",
    "np.iinfo('int32')"
   ]
  },
  {
   "cell_type": "code",
   "execution_count": 23,
   "id": "526d2008-d6e1-4f48-8ba0-e489388a8a24",
   "metadata": {},
   "outputs": [
    {
     "name": "stdout",
     "output_type": "stream",
     "text": [
      "<class 'pandas.core.frame.DataFrame'>\n",
      "RangeIndex: 1000 entries, 0 to 999\n",
      "Data columns (total 7 columns):\n",
      " #   Column                  Non-Null Count  Dtype  \n",
      "---  ------                  --------------  -----  \n",
      " 0   actor_3_facebook_likes  998 non-null    float16\n",
      " 1   actor_2_name            999 non-null    object \n",
      " 2   actor_1_facebook_likes  1000 non-null   float16\n",
      " 3   actor_1_name            1000 non-null   object \n",
      " 4   actor_3_name            998 non-null    object \n",
      " 5   actor_2_facebook_likes  999 non-null    float16\n",
      " 6   movie_facebook_likes    1000 non-null   int32  \n",
      "dtypes: float16(3), int32(1), object(3)\n",
      "memory usage: 33.3+ KB\n"
     ]
    }
   ],
   "source": [
    "movies3 = pd.read_csv('./data/data/movie.csv', nrows = 1000,\n",
    "                        dtype={\n",
    "                            'actor_1_facebook_likes': np.float16,\n",
    "                            'actor_2_facebook_likes': np.float16,\n",
    "                            'actor_3_facebook_likes': np.float16,                            \n",
    "                            'movie_facebook_likes': np.int32\n",
    "                        },\n",
    "                     usecols = cols)\n",
    "movies3.info()"
   ]
  },
  {
   "cell_type": "markdown",
   "id": "3be6b292-17fd-48fd-8b6b-c8f581f4c5a6",
   "metadata": {},
   "source": [
    "33.3+ KB 까지 줄였다."
   ]
  },
  {
   "cell_type": "code",
   "execution_count": 24,
   "id": "133228ce-e608-481a-91b5-b2cddf9d9e25",
   "metadata": {},
   "outputs": [
    {
     "data": {
      "text/html": [
       "<div>\n",
       "<style scoped>\n",
       "    .dataframe tbody tr th:only-of-type {\n",
       "        vertical-align: middle;\n",
       "    }\n",
       "\n",
       "    .dataframe tbody tr th {\n",
       "        vertical-align: top;\n",
       "    }\n",
       "\n",
       "    .dataframe thead th {\n",
       "        text-align: right;\n",
       "    }\n",
       "</style>\n",
       "<table border=\"1\" class=\"dataframe\">\n",
       "  <thead>\n",
       "    <tr style=\"text-align: right;\">\n",
       "      <th></th>\n",
       "      <th>actor_2_name</th>\n",
       "      <th>actor_1_name</th>\n",
       "      <th>actor_3_name</th>\n",
       "    </tr>\n",
       "  </thead>\n",
       "  <tbody>\n",
       "    <tr>\n",
       "      <th>count</th>\n",
       "      <td>999</td>\n",
       "      <td>1000</td>\n",
       "      <td>998</td>\n",
       "    </tr>\n",
       "    <tr>\n",
       "      <th>unique</th>\n",
       "      <td>695</td>\n",
       "      <td>427</td>\n",
       "      <td>823</td>\n",
       "    </tr>\n",
       "    <tr>\n",
       "      <th>top</th>\n",
       "      <td>Morgan Freeman</td>\n",
       "      <td>Will Smith</td>\n",
       "      <td>Steve Coogan</td>\n",
       "    </tr>\n",
       "    <tr>\n",
       "      <th>freq</th>\n",
       "      <td>11</td>\n",
       "      <td>17</td>\n",
       "      <td>7</td>\n",
       "    </tr>\n",
       "  </tbody>\n",
       "</table>\n",
       "</div>"
      ],
      "text/plain": [
       "          actor_2_name actor_1_name  actor_3_name\n",
       "count              999         1000           998\n",
       "unique             695          427           823\n",
       "top     Morgan Freeman   Will Smith  Steve Coogan\n",
       "freq                11           17             7"
      ]
     },
     "execution_count": 24,
     "metadata": {},
     "output_type": "execute_result"
    }
   ],
   "source": [
    "movies3.describe(include='O')"
   ]
  },
  {
   "cell_type": "markdown",
   "id": "e0f8d8b8-be1b-4a3d-a68a-f84e01b6a06b",
   "metadata": {},
   "source": [
    "고유값이 너무 다양해 object를 category로 전환하는건 적절치 않아 보인다."
   ]
  }
 ],
 "metadata": {
  "kernelspec": {
   "display_name": "Python 3 (ipykernel)",
   "language": "python",
   "name": "python3"
  },
  "language_info": {
   "codemirror_mode": {
    "name": "ipython",
    "version": 3
   },
   "file_extension": ".py",
   "mimetype": "text/x-python",
   "name": "python",
   "nbconvert_exporter": "python",
   "pygments_lexer": "ipython3",
   "version": "3.9.7"
  }
 },
 "nbformat": 4,
 "nbformat_minor": 5
}
